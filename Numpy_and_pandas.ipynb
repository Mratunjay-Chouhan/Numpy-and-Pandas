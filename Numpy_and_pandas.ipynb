{
  "nbformat": 4,
  "nbformat_minor": 0,
  "metadata": {
    "colab": {
      "name": "Numpy and pandas",
      "provenance": [],
      "collapsed_sections": []
    },
    "kernelspec": {
      "name": "python3",
      "display_name": "Python 3"
    },
    "language_info": {
      "name": "python"
    }
  },
  "cells": [
    {
      "cell_type": "markdown",
      "source": [
        "**Library:**A library is a collection of modules. *italicized text*\n",
        "\n",
        "**Modules:** *Modules are set of standardized parts or independent units that can be used to construct a more complex structure*\n",
        "\n",
        "**Numpy**(Numerical Python):\n",
        "> We can do all sort of operations on numerical arrays using numpy.\n",
        "1. Here we can add numerical values\n",
        "2. manupulate numerical values\n",
        "3. create random variables.\n",
        "\n",
        "**Pandas**:\n",
        ">1. In Pandas we create a structure of dataset\n",
        "2. It will also help us in performing statical analysis\n",
        "\n"
      ],
      "metadata": {
        "id": "D3uMPW9eKN_f"
      }
    },
    {
      "cell_type": "markdown",
      "source": [
        "Numpy and pandas are modules and these need to be imported in the system before use."
      ],
      "metadata": {
        "id": "pT3b_6rqMVkL"
      }
    },
    {
      "cell_type": "markdown",
      "source": [
        "\n",
        "\n",
        "---\n",
        "\n",
        "NUMPY(Numerical python)\n",
        "\n",
        "---\n",
        "\n"
      ],
      "metadata": {
        "id": "HHlKTCWvsUPe"
      }
    },
    {
      "cell_type": "code",
      "source": [
        "import numpy as np # here np is an alias name given to numpy"
      ],
      "metadata": {
        "id": "_HYYX7dUKJID"
      },
      "execution_count": 1,
      "outputs": []
    },
    {
      "cell_type": "code",
      "source": [
        "my_list=[1,2,3,4,5]\n",
        "# as such we do not have direct concept of array in python, inoreder to convert the list to array we have a function in numpy shown as follows:"
      ],
      "metadata": {
        "id": "oHUWE7IyM3BS"
      },
      "execution_count": 2,
      "outputs": []
    },
    {
      "cell_type": "code",
      "source": [
        "arr=np.array(my_list)"
      ],
      "metadata": {
        "id": "wZO5NXvRNi7N"
      },
      "execution_count": 3,
      "outputs": []
    },
    {
      "cell_type": "code",
      "source": [
        "type(arr)"
      ],
      "metadata": {
        "colab": {
          "base_uri": "https://localhost:8080/"
        },
        "id": "cIWzNMphNnfM",
        "outputId": "b74e1039-66f4-4905-81fb-162857fadb61"
      },
      "execution_count": 4,
      "outputs": [
        {
          "output_type": "execute_result",
          "data": {
            "text/plain": [
              "numpy.ndarray"
            ]
          },
          "metadata": {},
          "execution_count": 4
        }
      ]
    },
    {
      "cell_type": "markdown",
      "source": [
        "Here the type of array says as *numpy.ndarray* which means as *numpy n dimentional array.*\n",
        "\n",
        "The value of n can be anything say as 1 dimentional array, 2 dimentional array and so on.\n",
        "\n",
        "**The example of ours above is a 1 dimentional array**"
      ],
      "metadata": {
        "id": "3QSGxJPxNz6m"
      }
    },
    {
      "cell_type": "code",
      "source": [
        "# Multinested array\n",
        "my_list1=[1,2,3,4,5]\n",
        "my_list2=[4,5,6,7,8]\n",
        "my_list3=[9,10,11,3,4]"
      ],
      "metadata": {
        "id": "2yhgKph8Nw1s"
      },
      "execution_count": 5,
      "outputs": []
    },
    {
      "cell_type": "code",
      "source": [
        "arr_2=np.array([my_list,my_list2,my_list3])"
      ],
      "metadata": {
        "id": "qRsekwh_PlyR"
      },
      "execution_count": 6,
      "outputs": []
    },
    {
      "cell_type": "code",
      "source": [
        "print(arr_2)"
      ],
      "metadata": {
        "colab": {
          "base_uri": "https://localhost:8080/"
        },
        "id": "K7sK3TgMPu_8",
        "outputId": "27ca6496-0b6c-4021-9553-a5f867522d03"
      },
      "execution_count": 7,
      "outputs": [
        {
          "output_type": "stream",
          "name": "stdout",
          "text": [
            "[[ 1  2  3  4  5]\n",
            " [ 4  5  6  7  8]\n",
            " [ 9 10 11  3  4]]\n"
          ]
        }
      ]
    },
    {
      "cell_type": "markdown",
      "source": [
        "Here as shown in the example of multinested array the array consists of both rows and coloumns in it ***this is a 2 dimentional array***\n",
        "\n",
        "0. ***1 2 3 4 5***\n",
        "1. ***4 5 6 7 8***\n",
        "2. *** 9 10 11 12 13***\n",
        "\n",
        "here the indexin is mentioned as shown, 0. represent the 0th indexed row similarly 1. represent the 1st indexed row and so on. \n",
        "\n",
        "*  ** 0 1 2 3 4 **\n",
        "0. ***1 2 3 4 5***\n",
        "1. ***4 5 6 7 8***\n",
        "2. *** 9 10 11 12 13***\n",
        "\n",
        "Here 0,1,2,3,4 represent indexing of 0th coloumn, 1st coloumn and so on"
      ],
      "metadata": {
        "id": "kcbX3gX3P5Qv"
      }
    },
    {
      "cell_type": "code",
      "source": [
        "# Inorder to find the shape of our array we can use a fuction as follows:\n",
        "arr_2.shape # here (3,5) represent as 3 rows and 5 coloumns"
      ],
      "metadata": {
        "colab": {
          "base_uri": "https://localhost:8080/"
        },
        "id": "o_pLyJBUP3ZR",
        "outputId": "6dc0d2eb-dcc8-4d14-8a17-23aa9a2264cf"
      },
      "execution_count": 8,
      "outputs": [
        {
          "output_type": "execute_result",
          "data": {
            "text/plain": [
              "(3, 5)"
            ]
          },
          "metadata": {},
          "execution_count": 8
        }
      ]
    },
    {
      "cell_type": "code",
      "source": [
        "# We can even reshape our array to different form say (5,3), keeping noted that the number of elements remain the same\n",
        "arr_2.reshape(5,3)"
      ],
      "metadata": {
        "colab": {
          "base_uri": "https://localhost:8080/"
        },
        "id": "cZlU7o5wT-py",
        "outputId": "f3af2e13-2135-4775-dd3d-38fcb070610d"
      },
      "execution_count": 9,
      "outputs": [
        {
          "output_type": "execute_result",
          "data": {
            "text/plain": [
              "array([[ 1,  2,  3],\n",
              "       [ 4,  5,  4],\n",
              "       [ 5,  6,  7],\n",
              "       [ 8,  9, 10],\n",
              "       [11,  3,  4]])"
            ]
          },
          "metadata": {},
          "execution_count": 9
        }
      ]
    },
    {
      "cell_type": "code",
      "source": [
        "# we cannot reshape out of the range, say we need array of (4,5) for this we need 20 elements in array \n",
        "#but here in the example we only have 15 elements\n",
        "arr_2.reshape(4,5)"
      ],
      "metadata": {
        "colab": {
          "base_uri": "https://localhost:8080/",
          "height": 201
        },
        "id": "r5qusqSjzcqS",
        "outputId": "d200264d-248a-41bd-c5c6-9352f2b3aa8b"
      },
      "execution_count": 10,
      "outputs": [
        {
          "output_type": "error",
          "ename": "ValueError",
          "evalue": "ignored",
          "traceback": [
            "\u001b[0;31m---------------------------------------------------------------------------\u001b[0m",
            "\u001b[0;31mValueError\u001b[0m                                Traceback (most recent call last)",
            "\u001b[0;32m<ipython-input-10-26b97301a401>\u001b[0m in \u001b[0;36m<module>\u001b[0;34m()\u001b[0m\n\u001b[1;32m      1\u001b[0m \u001b[0;31m# we cannot reshape out of the range, say we need array of (4,5) for this we need 20 elements in array\u001b[0m\u001b[0;34m\u001b[0m\u001b[0;34m\u001b[0m\u001b[0;34m\u001b[0m\u001b[0m\n\u001b[1;32m      2\u001b[0m \u001b[0;31m#but here in the example we only have 15 elements\u001b[0m\u001b[0;34m\u001b[0m\u001b[0;34m\u001b[0m\u001b[0;34m\u001b[0m\u001b[0m\n\u001b[0;32m----> 3\u001b[0;31m \u001b[0marr_2\u001b[0m\u001b[0;34m.\u001b[0m\u001b[0mreshape\u001b[0m\u001b[0;34m(\u001b[0m\u001b[0;36m4\u001b[0m\u001b[0;34m,\u001b[0m\u001b[0;36m5\u001b[0m\u001b[0;34m)\u001b[0m\u001b[0;34m\u001b[0m\u001b[0;34m\u001b[0m\u001b[0m\n\u001b[0m",
            "\u001b[0;31mValueError\u001b[0m: cannot reshape array of size 15 into shape (4,5)"
          ]
        }
      ]
    },
    {
      "cell_type": "markdown",
      "source": [
        "---\n",
        "Generating random variables\n",
        "\n",
        "---\n",
        "We have various functions in numpy used for generating random variables for our use. Some of the useful data functions are listed below\n",
        "\n"
      ],
      "metadata": {
        "id": "rhWaKwQWF_gq"
      }
    },
    {
      "cell_type": "code",
      "source": [
        "arr_3=np.arange(0,10,1) # here arange means array range and as mentioned here the range is from 0 to 10 equally spaced by 1 number gap"
      ],
      "metadata": {
        "id": "_qtXy9U60AdM"
      },
      "execution_count": 11,
      "outputs": []
    },
    {
      "cell_type": "code",
      "source": [
        "print(arr_3) # .arange function is good for generating random values and working with small data set as shown below"
      ],
      "metadata": {
        "colab": {
          "base_uri": "https://localhost:8080/"
        },
        "id": "oWozaa3WSX5x",
        "outputId": "e2ac4d7d-bcd9-4bce-82f7-ba7d9f08b958"
      },
      "execution_count": 12,
      "outputs": [
        {
          "output_type": "stream",
          "name": "stdout",
          "text": [
            "[0 1 2 3 4 5 6 7 8 9]\n"
          ]
        }
      ]
    },
    {
      "cell_type": "markdown",
      "source": [
        "Inorder to generate large amount of data we have a function called as follows using linspace"
      ],
      "metadata": {
        "id": "4WnFaFAWTGfn"
      }
    },
    {
      "cell_type": "code",
      "source": [
        "arr_4=np.linspace(1,10,50) # here 50 means that in between 1,10 we will get 50 unique values and each value are equally spaced"
      ],
      "metadata": {
        "id": "Xxe8NXg7Te7Y"
      },
      "execution_count": 13,
      "outputs": []
    },
    {
      "cell_type": "code",
      "source": [
        "print(arr_4)"
      ],
      "metadata": {
        "colab": {
          "base_uri": "https://localhost:8080/"
        },
        "id": "Y9XZ9nCmTsmG",
        "outputId": "0b39f995-1d38-4228-9882-9162b1365a09"
      },
      "execution_count": 14,
      "outputs": [
        {
          "output_type": "stream",
          "name": "stdout",
          "text": [
            "[ 1.          1.18367347  1.36734694  1.55102041  1.73469388  1.91836735\n",
            "  2.10204082  2.28571429  2.46938776  2.65306122  2.83673469  3.02040816\n",
            "  3.20408163  3.3877551   3.57142857  3.75510204  3.93877551  4.12244898\n",
            "  4.30612245  4.48979592  4.67346939  4.85714286  5.04081633  5.2244898\n",
            "  5.40816327  5.59183673  5.7755102   5.95918367  6.14285714  6.32653061\n",
            "  6.51020408  6.69387755  6.87755102  7.06122449  7.24489796  7.42857143\n",
            "  7.6122449   7.79591837  7.97959184  8.16326531  8.34693878  8.53061224\n",
            "  8.71428571  8.89795918  9.08163265  9.26530612  9.44897959  9.63265306\n",
            "  9.81632653 10.        ]\n"
          ]
        }
      ]
    },
    {
      "cell_type": "markdown",
      "source": [
        "above mentioned examples generate array but these are not random in nature, say if we run the linspace range as (1,10,50) we will get the same 50 unique values each time we run the code\n",
        "\n",
        "---\n",
        "\n"
      ],
      "metadata": {
        "id": "dYBSUN7OUiLT"
      }
    },
    {
      "cell_type": "markdown",
      "source": [
        "Inorder to get some random values we have the mentioned functions"
      ],
      "metadata": {
        "id": "8B_Mva14VwP3"
      }
    },
    {
      "cell_type": "code",
      "source": [
        "np.random.rand(3,4) # In case of random.rand the (x,y) represents as x number of rows and y number of coloumns\n",
        "# the default range here is 0-->1 1 being exclusive in nature\n",
        "#the numbers here change everytime we run the cell"
      ],
      "metadata": {
        "colab": {
          "base_uri": "https://localhost:8080/"
        },
        "id": "R3KxqQxyUjMj",
        "outputId": "f68779e5-08a2-470a-fd1b-a9f1858f02f6"
      },
      "execution_count": 15,
      "outputs": [
        {
          "output_type": "execute_result",
          "data": {
            "text/plain": [
              "array([[0.06796857, 0.41065668, 0.10026713, 0.51544619],\n",
              "       [0.53213113, 0.72710023, 0.1911716 , 0.48012436],\n",
              "       [0.28724373, 0.03577426, 0.10466074, 0.35753135]])"
            ]
          },
          "metadata": {},
          "execution_count": 15
        }
      ]
    },
    {
      "cell_type": "code",
      "source": [
        "# inorder to get only integer values we can use function of random.randint\n",
        "\n",
        "np.random.randint(1,20,5) # here the parameters for random.randint(1,20,5) means that we need values in range 1,20 20 bening exclusive\n",
        "# here 5 represents the number of values that we get in the specified range\n",
        "#the numbers here change everytime we run the cell"
      ],
      "metadata": {
        "colab": {
          "base_uri": "https://localhost:8080/"
        },
        "id": "ZP_-XiEKbstd",
        "outputId": "820ddef1-5476-4226-8137-59a660d6a391"
      },
      "execution_count": 16,
      "outputs": [
        {
          "output_type": "execute_result",
          "data": {
            "text/plain": [
              "array([15,  2, 11, 14,  4])"
            ]
          },
          "metadata": {},
          "execution_count": 16
        }
      ]
    },
    {
      "cell_type": "code",
      "source": [
        "# note that if we give a small range and specify needed values to be more then tere will be repeatation of generated values as shown:\n",
        "np.random.randint(1,20,20)\n",
        "\n",
        "# this repeatation will lead to the concept of multi-colinearity due to which we will need to drop duplicate values."
      ],
      "metadata": {
        "colab": {
          "base_uri": "https://localhost:8080/"
        },
        "id": "3rJV6slqd8sO",
        "outputId": "11b8dea2-7f94-42d0-affd-f2bcdc52ffd7"
      },
      "execution_count": 17,
      "outputs": [
        {
          "output_type": "execute_result",
          "data": {
            "text/plain": [
              "array([ 6, 16,  6,  8, 18, 11, 17,  9, 11,  5, 11, 11,  2, 18,  7, 12, 18,\n",
              "        3, 16,  4])"
            ]
          },
          "metadata": {},
          "execution_count": 17
        }
      ]
    },
    {
      "cell_type": "markdown",
      "source": [
        "PANDAS"
      ],
      "metadata": {
        "id": "yDRGyqLhw3J3"
      }
    },
    {
      "cell_type": "code",
      "source": [
        "import pandas as pd"
      ],
      "metadata": {
        "id": "ywsVhrGUfRpT"
      },
      "execution_count": 18,
      "outputs": []
    },
    {
      "cell_type": "code",
      "source": [
        "data=pd.read_csv(\"/content/sunday_demo_file.csv\") # here we read the data by pd.read func and _csv will change as per the file type"
      ],
      "metadata": {
        "id": "Z6p8o3AUxdTC"
      },
      "execution_count": 19,
      "outputs": []
    },
    {
      "cell_type": "code",
      "source": [
        "data.head()#this is used to see the first 5 rows of our dataset"
      ],
      "metadata": {
        "colab": {
          "base_uri": "https://localhost:8080/",
          "height": 206
        },
        "id": "rpPIlFR60IvH",
        "outputId": "9927f652-9ba2-43ee-9bd1-7e9063cc293d"
      },
      "execution_count": null,
      "outputs": [
        {
          "output_type": "execute_result",
          "data": {
            "text/plain": [
              "  Unnamed: 0  col1  col2  col3  col4\n",
              "0       row1     0     1     2     3\n",
              "1       row2     4     5     6     7\n",
              "2       row3     8     9    10    11\n",
              "3       row4    12    13    14    15\n",
              "4       row5    16    17    18    19"
            ],
            "text/html": [
              "\n",
              "  <div id=\"df-d2ee5de6-2065-4080-b9d6-6e34037617d6\">\n",
              "    <div class=\"colab-df-container\">\n",
              "      <div>\n",
              "<style scoped>\n",
              "    .dataframe tbody tr th:only-of-type {\n",
              "        vertical-align: middle;\n",
              "    }\n",
              "\n",
              "    .dataframe tbody tr th {\n",
              "        vertical-align: top;\n",
              "    }\n",
              "\n",
              "    .dataframe thead th {\n",
              "        text-align: right;\n",
              "    }\n",
              "</style>\n",
              "<table border=\"1\" class=\"dataframe\">\n",
              "  <thead>\n",
              "    <tr style=\"text-align: right;\">\n",
              "      <th></th>\n",
              "      <th>Unnamed: 0</th>\n",
              "      <th>col1</th>\n",
              "      <th>col2</th>\n",
              "      <th>col3</th>\n",
              "      <th>col4</th>\n",
              "    </tr>\n",
              "  </thead>\n",
              "  <tbody>\n",
              "    <tr>\n",
              "      <th>0</th>\n",
              "      <td>row1</td>\n",
              "      <td>0</td>\n",
              "      <td>1</td>\n",
              "      <td>2</td>\n",
              "      <td>3</td>\n",
              "    </tr>\n",
              "    <tr>\n",
              "      <th>1</th>\n",
              "      <td>row2</td>\n",
              "      <td>4</td>\n",
              "      <td>5</td>\n",
              "      <td>6</td>\n",
              "      <td>7</td>\n",
              "    </tr>\n",
              "    <tr>\n",
              "      <th>2</th>\n",
              "      <td>row3</td>\n",
              "      <td>8</td>\n",
              "      <td>9</td>\n",
              "      <td>10</td>\n",
              "      <td>11</td>\n",
              "    </tr>\n",
              "    <tr>\n",
              "      <th>3</th>\n",
              "      <td>row4</td>\n",
              "      <td>12</td>\n",
              "      <td>13</td>\n",
              "      <td>14</td>\n",
              "      <td>15</td>\n",
              "    </tr>\n",
              "    <tr>\n",
              "      <th>4</th>\n",
              "      <td>row5</td>\n",
              "      <td>16</td>\n",
              "      <td>17</td>\n",
              "      <td>18</td>\n",
              "      <td>19</td>\n",
              "    </tr>\n",
              "  </tbody>\n",
              "</table>\n",
              "</div>\n",
              "      <button class=\"colab-df-convert\" onclick=\"convertToInteractive('df-d2ee5de6-2065-4080-b9d6-6e34037617d6')\"\n",
              "              title=\"Convert this dataframe to an interactive table.\"\n",
              "              style=\"display:none;\">\n",
              "        \n",
              "  <svg xmlns=\"http://www.w3.org/2000/svg\" height=\"24px\"viewBox=\"0 0 24 24\"\n",
              "       width=\"24px\">\n",
              "    <path d=\"M0 0h24v24H0V0z\" fill=\"none\"/>\n",
              "    <path d=\"M18.56 5.44l.94 2.06.94-2.06 2.06-.94-2.06-.94-.94-2.06-.94 2.06-2.06.94zm-11 1L8.5 8.5l.94-2.06 2.06-.94-2.06-.94L8.5 2.5l-.94 2.06-2.06.94zm10 10l.94 2.06.94-2.06 2.06-.94-2.06-.94-.94-2.06-.94 2.06-2.06.94z\"/><path d=\"M17.41 7.96l-1.37-1.37c-.4-.4-.92-.59-1.43-.59-.52 0-1.04.2-1.43.59L10.3 9.45l-7.72 7.72c-.78.78-.78 2.05 0 2.83L4 21.41c.39.39.9.59 1.41.59.51 0 1.02-.2 1.41-.59l7.78-7.78 2.81-2.81c.8-.78.8-2.07 0-2.86zM5.41 20L4 18.59l7.72-7.72 1.47 1.35L5.41 20z\"/>\n",
              "  </svg>\n",
              "      </button>\n",
              "      \n",
              "  <style>\n",
              "    .colab-df-container {\n",
              "      display:flex;\n",
              "      flex-wrap:wrap;\n",
              "      gap: 12px;\n",
              "    }\n",
              "\n",
              "    .colab-df-convert {\n",
              "      background-color: #E8F0FE;\n",
              "      border: none;\n",
              "      border-radius: 50%;\n",
              "      cursor: pointer;\n",
              "      display: none;\n",
              "      fill: #1967D2;\n",
              "      height: 32px;\n",
              "      padding: 0 0 0 0;\n",
              "      width: 32px;\n",
              "    }\n",
              "\n",
              "    .colab-df-convert:hover {\n",
              "      background-color: #E2EBFA;\n",
              "      box-shadow: 0px 1px 2px rgba(60, 64, 67, 0.3), 0px 1px 3px 1px rgba(60, 64, 67, 0.15);\n",
              "      fill: #174EA6;\n",
              "    }\n",
              "\n",
              "    [theme=dark] .colab-df-convert {\n",
              "      background-color: #3B4455;\n",
              "      fill: #D2E3FC;\n",
              "    }\n",
              "\n",
              "    [theme=dark] .colab-df-convert:hover {\n",
              "      background-color: #434B5C;\n",
              "      box-shadow: 0px 1px 3px 1px rgba(0, 0, 0, 0.15);\n",
              "      filter: drop-shadow(0px 1px 2px rgba(0, 0, 0, 0.3));\n",
              "      fill: #FFFFFF;\n",
              "    }\n",
              "  </style>\n",
              "\n",
              "      <script>\n",
              "        const buttonEl =\n",
              "          document.querySelector('#df-d2ee5de6-2065-4080-b9d6-6e34037617d6 button.colab-df-convert');\n",
              "        buttonEl.style.display =\n",
              "          google.colab.kernel.accessAllowed ? 'block' : 'none';\n",
              "\n",
              "        async function convertToInteractive(key) {\n",
              "          const element = document.querySelector('#df-d2ee5de6-2065-4080-b9d6-6e34037617d6');\n",
              "          const dataTable =\n",
              "            await google.colab.kernel.invokeFunction('convertToInteractive',\n",
              "                                                     [key], {});\n",
              "          if (!dataTable) return;\n",
              "\n",
              "          const docLinkHtml = 'Like what you see? Visit the ' +\n",
              "            '<a target=\"_blank\" href=https://colab.research.google.com/notebooks/data_table.ipynb>data table notebook</a>'\n",
              "            + ' to learn more about interactive tables.';\n",
              "          element.innerHTML = '';\n",
              "          dataTable['output_type'] = 'display_data';\n",
              "          await google.colab.output.renderOutput(dataTable, element);\n",
              "          const docLink = document.createElement('div');\n",
              "          docLink.innerHTML = docLinkHtml;\n",
              "          element.appendChild(docLink);\n",
              "        }\n",
              "      </script>\n",
              "    </div>\n",
              "  </div>\n",
              "  "
            ]
          },
          "metadata": {},
          "execution_count": 21
        }
      ]
    },
    {
      "cell_type": "code",
      "source": [
        "# inorder to see more rows we can specify the details in the head part of dataset as follows\n",
        "data.head(10)\n",
        "\n",
        "#in this case we dont have that sort of data"
      ],
      "metadata": {
        "colab": {
          "base_uri": "https://localhost:8080/",
          "height": 206
        },
        "id": "96VM0mtU1MUo",
        "outputId": "d04691b5-b7d9-4336-985e-6e9b5cf6bf3d"
      },
      "execution_count": 20,
      "outputs": [
        {
          "output_type": "execute_result",
          "data": {
            "text/plain": [
              "  Unnamed: 0  col1  col2  col3  col4\n",
              "0       row1     0     1     2     3\n",
              "1       row2     4     5     6     7\n",
              "2       row3     8     9    10    11\n",
              "3       row4    12    13    14    15\n",
              "4       row5    16    17    18    19"
            ],
            "text/html": [
              "\n",
              "  <div id=\"df-c9cf3f35-3d70-4134-a5b4-54fd76f827fe\">\n",
              "    <div class=\"colab-df-container\">\n",
              "      <div>\n",
              "<style scoped>\n",
              "    .dataframe tbody tr th:only-of-type {\n",
              "        vertical-align: middle;\n",
              "    }\n",
              "\n",
              "    .dataframe tbody tr th {\n",
              "        vertical-align: top;\n",
              "    }\n",
              "\n",
              "    .dataframe thead th {\n",
              "        text-align: right;\n",
              "    }\n",
              "</style>\n",
              "<table border=\"1\" class=\"dataframe\">\n",
              "  <thead>\n",
              "    <tr style=\"text-align: right;\">\n",
              "      <th></th>\n",
              "      <th>Unnamed: 0</th>\n",
              "      <th>col1</th>\n",
              "      <th>col2</th>\n",
              "      <th>col3</th>\n",
              "      <th>col4</th>\n",
              "    </tr>\n",
              "  </thead>\n",
              "  <tbody>\n",
              "    <tr>\n",
              "      <th>0</th>\n",
              "      <td>row1</td>\n",
              "      <td>0</td>\n",
              "      <td>1</td>\n",
              "      <td>2</td>\n",
              "      <td>3</td>\n",
              "    </tr>\n",
              "    <tr>\n",
              "      <th>1</th>\n",
              "      <td>row2</td>\n",
              "      <td>4</td>\n",
              "      <td>5</td>\n",
              "      <td>6</td>\n",
              "      <td>7</td>\n",
              "    </tr>\n",
              "    <tr>\n",
              "      <th>2</th>\n",
              "      <td>row3</td>\n",
              "      <td>8</td>\n",
              "      <td>9</td>\n",
              "      <td>10</td>\n",
              "      <td>11</td>\n",
              "    </tr>\n",
              "    <tr>\n",
              "      <th>3</th>\n",
              "      <td>row4</td>\n",
              "      <td>12</td>\n",
              "      <td>13</td>\n",
              "      <td>14</td>\n",
              "      <td>15</td>\n",
              "    </tr>\n",
              "    <tr>\n",
              "      <th>4</th>\n",
              "      <td>row5</td>\n",
              "      <td>16</td>\n",
              "      <td>17</td>\n",
              "      <td>18</td>\n",
              "      <td>19</td>\n",
              "    </tr>\n",
              "  </tbody>\n",
              "</table>\n",
              "</div>\n",
              "      <button class=\"colab-df-convert\" onclick=\"convertToInteractive('df-c9cf3f35-3d70-4134-a5b4-54fd76f827fe')\"\n",
              "              title=\"Convert this dataframe to an interactive table.\"\n",
              "              style=\"display:none;\">\n",
              "        \n",
              "  <svg xmlns=\"http://www.w3.org/2000/svg\" height=\"24px\"viewBox=\"0 0 24 24\"\n",
              "       width=\"24px\">\n",
              "    <path d=\"M0 0h24v24H0V0z\" fill=\"none\"/>\n",
              "    <path d=\"M18.56 5.44l.94 2.06.94-2.06 2.06-.94-2.06-.94-.94-2.06-.94 2.06-2.06.94zm-11 1L8.5 8.5l.94-2.06 2.06-.94-2.06-.94L8.5 2.5l-.94 2.06-2.06.94zm10 10l.94 2.06.94-2.06 2.06-.94-2.06-.94-.94-2.06-.94 2.06-2.06.94z\"/><path d=\"M17.41 7.96l-1.37-1.37c-.4-.4-.92-.59-1.43-.59-.52 0-1.04.2-1.43.59L10.3 9.45l-7.72 7.72c-.78.78-.78 2.05 0 2.83L4 21.41c.39.39.9.59 1.41.59.51 0 1.02-.2 1.41-.59l7.78-7.78 2.81-2.81c.8-.78.8-2.07 0-2.86zM5.41 20L4 18.59l7.72-7.72 1.47 1.35L5.41 20z\"/>\n",
              "  </svg>\n",
              "      </button>\n",
              "      \n",
              "  <style>\n",
              "    .colab-df-container {\n",
              "      display:flex;\n",
              "      flex-wrap:wrap;\n",
              "      gap: 12px;\n",
              "    }\n",
              "\n",
              "    .colab-df-convert {\n",
              "      background-color: #E8F0FE;\n",
              "      border: none;\n",
              "      border-radius: 50%;\n",
              "      cursor: pointer;\n",
              "      display: none;\n",
              "      fill: #1967D2;\n",
              "      height: 32px;\n",
              "      padding: 0 0 0 0;\n",
              "      width: 32px;\n",
              "    }\n",
              "\n",
              "    .colab-df-convert:hover {\n",
              "      background-color: #E2EBFA;\n",
              "      box-shadow: 0px 1px 2px rgba(60, 64, 67, 0.3), 0px 1px 3px 1px rgba(60, 64, 67, 0.15);\n",
              "      fill: #174EA6;\n",
              "    }\n",
              "\n",
              "    [theme=dark] .colab-df-convert {\n",
              "      background-color: #3B4455;\n",
              "      fill: #D2E3FC;\n",
              "    }\n",
              "\n",
              "    [theme=dark] .colab-df-convert:hover {\n",
              "      background-color: #434B5C;\n",
              "      box-shadow: 0px 1px 3px 1px rgba(0, 0, 0, 0.15);\n",
              "      filter: drop-shadow(0px 1px 2px rgba(0, 0, 0, 0.3));\n",
              "      fill: #FFFFFF;\n",
              "    }\n",
              "  </style>\n",
              "\n",
              "      <script>\n",
              "        const buttonEl =\n",
              "          document.querySelector('#df-c9cf3f35-3d70-4134-a5b4-54fd76f827fe button.colab-df-convert');\n",
              "        buttonEl.style.display =\n",
              "          google.colab.kernel.accessAllowed ? 'block' : 'none';\n",
              "\n",
              "        async function convertToInteractive(key) {\n",
              "          const element = document.querySelector('#df-c9cf3f35-3d70-4134-a5b4-54fd76f827fe');\n",
              "          const dataTable =\n",
              "            await google.colab.kernel.invokeFunction('convertToInteractive',\n",
              "                                                     [key], {});\n",
              "          if (!dataTable) return;\n",
              "\n",
              "          const docLinkHtml = 'Like what you see? Visit the ' +\n",
              "            '<a target=\"_blank\" href=https://colab.research.google.com/notebooks/data_table.ipynb>data table notebook</a>'\n",
              "            + ' to learn more about interactive tables.';\n",
              "          element.innerHTML = '';\n",
              "          dataTable['output_type'] = 'display_data';\n",
              "          await google.colab.output.renderOutput(dataTable, element);\n",
              "          const docLink = document.createElement('div');\n",
              "          docLink.innerHTML = docLinkHtml;\n",
              "          element.appendChild(docLink);\n",
              "        }\n",
              "      </script>\n",
              "    </div>\n",
              "  </div>\n",
              "  "
            ]
          },
          "metadata": {},
          "execution_count": 20
        }
      ]
    },
    {
      "cell_type": "code",
      "source": [
        "#similarly we can use the function of data.tail() to visualize the last elements of the dataset\n",
        "data.tail()"
      ],
      "metadata": {
        "colab": {
          "base_uri": "https://localhost:8080/",
          "height": 206
        },
        "id": "NNECpyTJ2FOp",
        "outputId": "fa90e970-8331-4514-bd58-ff101473b613"
      },
      "execution_count": 21,
      "outputs": [
        {
          "output_type": "execute_result",
          "data": {
            "text/plain": [
              "  Unnamed: 0  col1  col2  col3  col4\n",
              "0       row1     0     1     2     3\n",
              "1       row2     4     5     6     7\n",
              "2       row3     8     9    10    11\n",
              "3       row4    12    13    14    15\n",
              "4       row5    16    17    18    19"
            ],
            "text/html": [
              "\n",
              "  <div id=\"df-10dc5127-18ec-4f2d-b00b-771b68f34a40\">\n",
              "    <div class=\"colab-df-container\">\n",
              "      <div>\n",
              "<style scoped>\n",
              "    .dataframe tbody tr th:only-of-type {\n",
              "        vertical-align: middle;\n",
              "    }\n",
              "\n",
              "    .dataframe tbody tr th {\n",
              "        vertical-align: top;\n",
              "    }\n",
              "\n",
              "    .dataframe thead th {\n",
              "        text-align: right;\n",
              "    }\n",
              "</style>\n",
              "<table border=\"1\" class=\"dataframe\">\n",
              "  <thead>\n",
              "    <tr style=\"text-align: right;\">\n",
              "      <th></th>\n",
              "      <th>Unnamed: 0</th>\n",
              "      <th>col1</th>\n",
              "      <th>col2</th>\n",
              "      <th>col3</th>\n",
              "      <th>col4</th>\n",
              "    </tr>\n",
              "  </thead>\n",
              "  <tbody>\n",
              "    <tr>\n",
              "      <th>0</th>\n",
              "      <td>row1</td>\n",
              "      <td>0</td>\n",
              "      <td>1</td>\n",
              "      <td>2</td>\n",
              "      <td>3</td>\n",
              "    </tr>\n",
              "    <tr>\n",
              "      <th>1</th>\n",
              "      <td>row2</td>\n",
              "      <td>4</td>\n",
              "      <td>5</td>\n",
              "      <td>6</td>\n",
              "      <td>7</td>\n",
              "    </tr>\n",
              "    <tr>\n",
              "      <th>2</th>\n",
              "      <td>row3</td>\n",
              "      <td>8</td>\n",
              "      <td>9</td>\n",
              "      <td>10</td>\n",
              "      <td>11</td>\n",
              "    </tr>\n",
              "    <tr>\n",
              "      <th>3</th>\n",
              "      <td>row4</td>\n",
              "      <td>12</td>\n",
              "      <td>13</td>\n",
              "      <td>14</td>\n",
              "      <td>15</td>\n",
              "    </tr>\n",
              "    <tr>\n",
              "      <th>4</th>\n",
              "      <td>row5</td>\n",
              "      <td>16</td>\n",
              "      <td>17</td>\n",
              "      <td>18</td>\n",
              "      <td>19</td>\n",
              "    </tr>\n",
              "  </tbody>\n",
              "</table>\n",
              "</div>\n",
              "      <button class=\"colab-df-convert\" onclick=\"convertToInteractive('df-10dc5127-18ec-4f2d-b00b-771b68f34a40')\"\n",
              "              title=\"Convert this dataframe to an interactive table.\"\n",
              "              style=\"display:none;\">\n",
              "        \n",
              "  <svg xmlns=\"http://www.w3.org/2000/svg\" height=\"24px\"viewBox=\"0 0 24 24\"\n",
              "       width=\"24px\">\n",
              "    <path d=\"M0 0h24v24H0V0z\" fill=\"none\"/>\n",
              "    <path d=\"M18.56 5.44l.94 2.06.94-2.06 2.06-.94-2.06-.94-.94-2.06-.94 2.06-2.06.94zm-11 1L8.5 8.5l.94-2.06 2.06-.94-2.06-.94L8.5 2.5l-.94 2.06-2.06.94zm10 10l.94 2.06.94-2.06 2.06-.94-2.06-.94-.94-2.06-.94 2.06-2.06.94z\"/><path d=\"M17.41 7.96l-1.37-1.37c-.4-.4-.92-.59-1.43-.59-.52 0-1.04.2-1.43.59L10.3 9.45l-7.72 7.72c-.78.78-.78 2.05 0 2.83L4 21.41c.39.39.9.59 1.41.59.51 0 1.02-.2 1.41-.59l7.78-7.78 2.81-2.81c.8-.78.8-2.07 0-2.86zM5.41 20L4 18.59l7.72-7.72 1.47 1.35L5.41 20z\"/>\n",
              "  </svg>\n",
              "      </button>\n",
              "      \n",
              "  <style>\n",
              "    .colab-df-container {\n",
              "      display:flex;\n",
              "      flex-wrap:wrap;\n",
              "      gap: 12px;\n",
              "    }\n",
              "\n",
              "    .colab-df-convert {\n",
              "      background-color: #E8F0FE;\n",
              "      border: none;\n",
              "      border-radius: 50%;\n",
              "      cursor: pointer;\n",
              "      display: none;\n",
              "      fill: #1967D2;\n",
              "      height: 32px;\n",
              "      padding: 0 0 0 0;\n",
              "      width: 32px;\n",
              "    }\n",
              "\n",
              "    .colab-df-convert:hover {\n",
              "      background-color: #E2EBFA;\n",
              "      box-shadow: 0px 1px 2px rgba(60, 64, 67, 0.3), 0px 1px 3px 1px rgba(60, 64, 67, 0.15);\n",
              "      fill: #174EA6;\n",
              "    }\n",
              "\n",
              "    [theme=dark] .colab-df-convert {\n",
              "      background-color: #3B4455;\n",
              "      fill: #D2E3FC;\n",
              "    }\n",
              "\n",
              "    [theme=dark] .colab-df-convert:hover {\n",
              "      background-color: #434B5C;\n",
              "      box-shadow: 0px 1px 3px 1px rgba(0, 0, 0, 0.15);\n",
              "      filter: drop-shadow(0px 1px 2px rgba(0, 0, 0, 0.3));\n",
              "      fill: #FFFFFF;\n",
              "    }\n",
              "  </style>\n",
              "\n",
              "      <script>\n",
              "        const buttonEl =\n",
              "          document.querySelector('#df-10dc5127-18ec-4f2d-b00b-771b68f34a40 button.colab-df-convert');\n",
              "        buttonEl.style.display =\n",
              "          google.colab.kernel.accessAllowed ? 'block' : 'none';\n",
              "\n",
              "        async function convertToInteractive(key) {\n",
              "          const element = document.querySelector('#df-10dc5127-18ec-4f2d-b00b-771b68f34a40');\n",
              "          const dataTable =\n",
              "            await google.colab.kernel.invokeFunction('convertToInteractive',\n",
              "                                                     [key], {});\n",
              "          if (!dataTable) return;\n",
              "\n",
              "          const docLinkHtml = 'Like what you see? Visit the ' +\n",
              "            '<a target=\"_blank\" href=https://colab.research.google.com/notebooks/data_table.ipynb>data table notebook</a>'\n",
              "            + ' to learn more about interactive tables.';\n",
              "          element.innerHTML = '';\n",
              "          dataTable['output_type'] = 'display_data';\n",
              "          await google.colab.output.renderOutput(dataTable, element);\n",
              "          const docLink = document.createElement('div');\n",
              "          docLink.innerHTML = docLinkHtml;\n",
              "          element.appendChild(docLink);\n",
              "        }\n",
              "      </script>\n",
              "    </div>\n",
              "  </div>\n",
              "  "
            ]
          },
          "metadata": {},
          "execution_count": 21
        }
      ]
    },
    {
      "cell_type": "code",
      "source": [
        "# if we want to get the info about the dataset we can use the parameter of data.info()\n",
        "data.info()\n",
        "#this comes in handay as the info is used to create a picture of the big datasets we have"
      ],
      "metadata": {
        "colab": {
          "base_uri": "https://localhost:8080/"
        },
        "id": "QWAcAxyn2qaj",
        "outputId": "f61ce847-826c-4308-8c46-7981a44a1fb7"
      },
      "execution_count": 22,
      "outputs": [
        {
          "output_type": "stream",
          "name": "stdout",
          "text": [
            "<class 'pandas.core.frame.DataFrame'>\n",
            "RangeIndex: 5 entries, 0 to 4\n",
            "Data columns (total 5 columns):\n",
            " #   Column      Non-Null Count  Dtype \n",
            "---  ------      --------------  ----- \n",
            " 0   Unnamed: 0  5 non-null      object\n",
            " 1   col1        5 non-null      int64 \n",
            " 2   col2        5 non-null      int64 \n",
            " 3   col3        5 non-null      int64 \n",
            " 4   col4        5 non-null      int64 \n",
            "dtypes: int64(4), object(1)\n",
            "memory usage: 328.0+ bytes\n"
          ]
        }
      ]
    },
    {
      "cell_type": "code",
      "source": [
        "# DataFrame: info comprising of both rows and coloumns is a data frame\n",
        "# Range index: means we have 5 entries(rows) from 0 to 4\n",
        "# Data Coloumns: total coloums in data(here 7)\n",
        "# Non-Null Count: this means that in that coloums there are no missing values\n",
        "# object:string values\n",
        "# dtypes: int64(4), object(1)- (means 4 coloums have int values, 1 have object value)"
      ],
      "metadata": {
        "id": "xuCeg8NMVLoC"
      },
      "execution_count": 23,
      "outputs": []
    },
    {
      "cell_type": "code",
      "source": [
        "# the most common and important function we are going to use is \".describe\"\n",
        "# this is an example that numpy can be used for the statical analysis of the dataset\n",
        "data.describe() "
      ],
      "metadata": {
        "colab": {
          "base_uri": "https://localhost:8080/",
          "height": 300
        },
        "id": "dLX8WtzjH3g8",
        "outputId": "f021b961-d472-4838-ea2d-016ef5662094"
      },
      "execution_count": 24,
      "outputs": [
        {
          "output_type": "execute_result",
          "data": {
            "text/plain": [
              "            col1       col2       col3       col4\n",
              "count   5.000000   5.000000   5.000000   5.000000\n",
              "mean    8.000000   9.000000  10.000000  11.000000\n",
              "std     6.324555   6.324555   6.324555   6.324555\n",
              "min     0.000000   1.000000   2.000000   3.000000\n",
              "25%     4.000000   5.000000   6.000000   7.000000\n",
              "50%     8.000000   9.000000  10.000000  11.000000\n",
              "75%    12.000000  13.000000  14.000000  15.000000\n",
              "max    16.000000  17.000000  18.000000  19.000000"
            ],
            "text/html": [
              "\n",
              "  <div id=\"df-6f223176-cdeb-43cd-bb10-9ad51a907e4c\">\n",
              "    <div class=\"colab-df-container\">\n",
              "      <div>\n",
              "<style scoped>\n",
              "    .dataframe tbody tr th:only-of-type {\n",
              "        vertical-align: middle;\n",
              "    }\n",
              "\n",
              "    .dataframe tbody tr th {\n",
              "        vertical-align: top;\n",
              "    }\n",
              "\n",
              "    .dataframe thead th {\n",
              "        text-align: right;\n",
              "    }\n",
              "</style>\n",
              "<table border=\"1\" class=\"dataframe\">\n",
              "  <thead>\n",
              "    <tr style=\"text-align: right;\">\n",
              "      <th></th>\n",
              "      <th>col1</th>\n",
              "      <th>col2</th>\n",
              "      <th>col3</th>\n",
              "      <th>col4</th>\n",
              "    </tr>\n",
              "  </thead>\n",
              "  <tbody>\n",
              "    <tr>\n",
              "      <th>count</th>\n",
              "      <td>5.000000</td>\n",
              "      <td>5.000000</td>\n",
              "      <td>5.000000</td>\n",
              "      <td>5.000000</td>\n",
              "    </tr>\n",
              "    <tr>\n",
              "      <th>mean</th>\n",
              "      <td>8.000000</td>\n",
              "      <td>9.000000</td>\n",
              "      <td>10.000000</td>\n",
              "      <td>11.000000</td>\n",
              "    </tr>\n",
              "    <tr>\n",
              "      <th>std</th>\n",
              "      <td>6.324555</td>\n",
              "      <td>6.324555</td>\n",
              "      <td>6.324555</td>\n",
              "      <td>6.324555</td>\n",
              "    </tr>\n",
              "    <tr>\n",
              "      <th>min</th>\n",
              "      <td>0.000000</td>\n",
              "      <td>1.000000</td>\n",
              "      <td>2.000000</td>\n",
              "      <td>3.000000</td>\n",
              "    </tr>\n",
              "    <tr>\n",
              "      <th>25%</th>\n",
              "      <td>4.000000</td>\n",
              "      <td>5.000000</td>\n",
              "      <td>6.000000</td>\n",
              "      <td>7.000000</td>\n",
              "    </tr>\n",
              "    <tr>\n",
              "      <th>50%</th>\n",
              "      <td>8.000000</td>\n",
              "      <td>9.000000</td>\n",
              "      <td>10.000000</td>\n",
              "      <td>11.000000</td>\n",
              "    </tr>\n",
              "    <tr>\n",
              "      <th>75%</th>\n",
              "      <td>12.000000</td>\n",
              "      <td>13.000000</td>\n",
              "      <td>14.000000</td>\n",
              "      <td>15.000000</td>\n",
              "    </tr>\n",
              "    <tr>\n",
              "      <th>max</th>\n",
              "      <td>16.000000</td>\n",
              "      <td>17.000000</td>\n",
              "      <td>18.000000</td>\n",
              "      <td>19.000000</td>\n",
              "    </tr>\n",
              "  </tbody>\n",
              "</table>\n",
              "</div>\n",
              "      <button class=\"colab-df-convert\" onclick=\"convertToInteractive('df-6f223176-cdeb-43cd-bb10-9ad51a907e4c')\"\n",
              "              title=\"Convert this dataframe to an interactive table.\"\n",
              "              style=\"display:none;\">\n",
              "        \n",
              "  <svg xmlns=\"http://www.w3.org/2000/svg\" height=\"24px\"viewBox=\"0 0 24 24\"\n",
              "       width=\"24px\">\n",
              "    <path d=\"M0 0h24v24H0V0z\" fill=\"none\"/>\n",
              "    <path d=\"M18.56 5.44l.94 2.06.94-2.06 2.06-.94-2.06-.94-.94-2.06-.94 2.06-2.06.94zm-11 1L8.5 8.5l.94-2.06 2.06-.94-2.06-.94L8.5 2.5l-.94 2.06-2.06.94zm10 10l.94 2.06.94-2.06 2.06-.94-2.06-.94-.94-2.06-.94 2.06-2.06.94z\"/><path d=\"M17.41 7.96l-1.37-1.37c-.4-.4-.92-.59-1.43-.59-.52 0-1.04.2-1.43.59L10.3 9.45l-7.72 7.72c-.78.78-.78 2.05 0 2.83L4 21.41c.39.39.9.59 1.41.59.51 0 1.02-.2 1.41-.59l7.78-7.78 2.81-2.81c.8-.78.8-2.07 0-2.86zM5.41 20L4 18.59l7.72-7.72 1.47 1.35L5.41 20z\"/>\n",
              "  </svg>\n",
              "      </button>\n",
              "      \n",
              "  <style>\n",
              "    .colab-df-container {\n",
              "      display:flex;\n",
              "      flex-wrap:wrap;\n",
              "      gap: 12px;\n",
              "    }\n",
              "\n",
              "    .colab-df-convert {\n",
              "      background-color: #E8F0FE;\n",
              "      border: none;\n",
              "      border-radius: 50%;\n",
              "      cursor: pointer;\n",
              "      display: none;\n",
              "      fill: #1967D2;\n",
              "      height: 32px;\n",
              "      padding: 0 0 0 0;\n",
              "      width: 32px;\n",
              "    }\n",
              "\n",
              "    .colab-df-convert:hover {\n",
              "      background-color: #E2EBFA;\n",
              "      box-shadow: 0px 1px 2px rgba(60, 64, 67, 0.3), 0px 1px 3px 1px rgba(60, 64, 67, 0.15);\n",
              "      fill: #174EA6;\n",
              "    }\n",
              "\n",
              "    [theme=dark] .colab-df-convert {\n",
              "      background-color: #3B4455;\n",
              "      fill: #D2E3FC;\n",
              "    }\n",
              "\n",
              "    [theme=dark] .colab-df-convert:hover {\n",
              "      background-color: #434B5C;\n",
              "      box-shadow: 0px 1px 3px 1px rgba(0, 0, 0, 0.15);\n",
              "      filter: drop-shadow(0px 1px 2px rgba(0, 0, 0, 0.3));\n",
              "      fill: #FFFFFF;\n",
              "    }\n",
              "  </style>\n",
              "\n",
              "      <script>\n",
              "        const buttonEl =\n",
              "          document.querySelector('#df-6f223176-cdeb-43cd-bb10-9ad51a907e4c button.colab-df-convert');\n",
              "        buttonEl.style.display =\n",
              "          google.colab.kernel.accessAllowed ? 'block' : 'none';\n",
              "\n",
              "        async function convertToInteractive(key) {\n",
              "          const element = document.querySelector('#df-6f223176-cdeb-43cd-bb10-9ad51a907e4c');\n",
              "          const dataTable =\n",
              "            await google.colab.kernel.invokeFunction('convertToInteractive',\n",
              "                                                     [key], {});\n",
              "          if (!dataTable) return;\n",
              "\n",
              "          const docLinkHtml = 'Like what you see? Visit the ' +\n",
              "            '<a target=\"_blank\" href=https://colab.research.google.com/notebooks/data_table.ipynb>data table notebook</a>'\n",
              "            + ' to learn more about interactive tables.';\n",
              "          element.innerHTML = '';\n",
              "          dataTable['output_type'] = 'display_data';\n",
              "          await google.colab.output.renderOutput(dataTable, element);\n",
              "          const docLink = document.createElement('div');\n",
              "          docLink.innerHTML = docLinkHtml;\n",
              "          element.appendChild(docLink);\n",
              "        }\n",
              "      </script>\n",
              "    </div>\n",
              "  </div>\n",
              "  "
            ]
          },
          "metadata": {},
          "execution_count": 24
        }
      ]
    },
    {
      "cell_type": "markdown",
      "source": [
        "**Quartiles**\n",
        "\n",
        "![Quartiles.png](data:image/png;base64,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)"
      ],
      "metadata": {
        "id": "I2eXktUTlU2Z"
      }
    },
    {
      "cell_type": "markdown",
      "source": [
        "**Note**: *This graph is for example and ourunderstanding, it do not represent the data D. It will come to us in the further studies ahead*\n",
        "\n",
        "Here let us assume that we have the mentioned data set D as shown in the image.\n",
        "1. if we have even values in our dataset then the median Q2=sum of middle values/2, in case of odd values it is sum the middle value itself\n",
        "2. the data is devided in 2 halves first is lower half and other is upper half\n",
        "3. the lower half of our data set has odd values and the dataset has q1=mid value as median(here 52)\n",
        "4. similarly we see that the upper half has q3 as median meaning q3=58\n",
        "5. Note:*the value q1 represents 50% of our data, q2 represents 25% of our data and q3 represents 75% of our data as mentioned in example of * **data.describe()**\n",
        "6. The inter quartile range or IQR can be calculated as IQR=q3-q1\n",
        "7. the point of start can be described as q1-1.5*IQR \n",
        "8. the end point will be q3-1.5*IQR"
      ],
      "metadata": {
        "id": "xxZv9zM-l6Tv"
      }
    },
    {
      "cell_type": "markdown",
      "source": [
        "**Creating our own dataset**"
      ],
      "metadata": {
        "id": "ZRtRLgjQb0f8"
      }
    },
    {
      "cell_type": "code",
      "source": [
        "my_data=pd.DataFrame(np.arange(0,30).reshape(6,5),index=[\"r1\",\"r2\",\"r3\",\"r4\",\"r5\",\"r6\"],columns=[\"data_col_1\",\"data_col_2\",\"data_col_3\",\"data_col_4\",\"data_col_5\"])"
      ],
      "metadata": {
        "id": "T-MJasC1J7My"
      },
      "execution_count": 25,
      "outputs": []
    },
    {
      "cell_type": "markdown",
      "source": [
        "my_data=pd.DataFrame(np.arange(0,30).reshape(6,5),index=[\"r1\",\"r2\",\"r3\",\"r4\",\"r5\",\"r6\"],columns=[\"data_col_1\",\"data_col_2\",\"data_col_3\",\"data_col_4\",\"data_col_5\"])"
      ],
      "metadata": {
        "id": "_qzU8tAXjaBC"
      }
    },
    {
      "cell_type": "code",
      "source": [
        "print(my_data)"
      ],
      "metadata": {
        "colab": {
          "base_uri": "https://localhost:8080/"
        },
        "id": "w5QdxoukjWdc",
        "outputId": "de303761-5288-4971-c3ae-81103d085cac"
      },
      "execution_count": 26,
      "outputs": [
        {
          "output_type": "stream",
          "name": "stdout",
          "text": [
            "    data_col_1  data_col_2  data_col_3  data_col_4  data_col_5\n",
            "r1           0           1           2           3           4\n",
            "r2           5           6           7           8           9\n",
            "r3          10          11          12          13          14\n",
            "r4          15          16          17          18          19\n",
            "r5          20          21          22          23          24\n",
            "r6          25          26          27          28          29\n"
          ]
        }
      ]
    },
    {
      "cell_type": "code",
      "source": [
        "my_data.to_csv(\"My first dataset.csv\") # to create a csv file for our data"
      ],
      "metadata": {
        "id": "a4WZ1iVUjXG8"
      },
      "execution_count": 27,
      "outputs": []
    },
    {
      "cell_type": "code",
      "source": [
        "my_data.to_excel(\"My first Dataset.xlsx\") # To create excel file"
      ],
      "metadata": {
        "id": "qdBAUnNykHrC"
      },
      "execution_count": 28,
      "outputs": []
    },
    {
      "cell_type": "markdown",
      "source": [
        "Slicing in pandas"
      ],
      "metadata": {
        "id": "keUqCNUi5Bef"
      }
    },
    {
      "cell_type": "code",
      "source": [
        "# for working on slicing with pandas we will look at 2 funchions:-\n",
        "# .loc()\n",
        "# .iloc()\n",
        "print(my_data)"
      ],
      "metadata": {
        "colab": {
          "base_uri": "https://localhost:8080/"
        },
        "id": "kFea0Nzw5Iiy",
        "outputId": "80d5a16c-a175-4811-fcf9-7532aaef9128"
      },
      "execution_count": 29,
      "outputs": [
        {
          "output_type": "stream",
          "name": "stdout",
          "text": [
            "    data_col_1  data_col_2  data_col_3  data_col_4  data_col_5\n",
            "r1           0           1           2           3           4\n",
            "r2           5           6           7           8           9\n",
            "r3          10          11          12          13          14\n",
            "r4          15          16          17          18          19\n",
            "r5          20          21          22          23          24\n",
            "r6          25          26          27          28          29\n"
          ]
        }
      ]
    },
    {
      "cell_type": "markdown",
      "source": [
        "**We mostly use the .iloc() function as .iloc() works both on rows and coloumns wheras .loc() is used only on rows slicing**\n",
        "\n",
        "1. Syntax--->> variable.iloc[a:b,x:y] here a and b are the range for the rows starting from 0th index and b being exclusive in nature similarly x and y are range for coloumns starting from 0th coloumn index and y being exclusive.\n",
        "2. Syntax--->> variable.loc[\"Row name\"] here the row name is the row which we want to slice from the entire data sheet we have as shown below."
      ],
      "metadata": {
        "id": "P2Pv-aQC7Y9Z"
      }
    },
    {
      "cell_type": "markdown",
      "source": [
        "*.iloc()*"
      ],
      "metadata": {
        "id": "iHYXLRY39rdo"
      }
    },
    {
      "cell_type": "code",
      "source": [
        "my_data.iloc[1:4,1:] # if we leave a range elementempty the range continues till n+1 nbeing last entry"
      ],
      "metadata": {
        "colab": {
          "base_uri": "https://localhost:8080/",
          "height": 143
        },
        "id": "izMiDaE559JK",
        "outputId": "95ed9237-7554-4554-c9a4-4a3930ad8e67"
      },
      "execution_count": 34,
      "outputs": [
        {
          "output_type": "execute_result",
          "data": {
            "text/plain": [
              "    data_col_2  data_col_3  data_col_4  data_col_5\n",
              "r2           6           7           8           9\n",
              "r3          11          12          13          14\n",
              "r4          16          17          18          19"
            ],
            "text/html": [
              "\n",
              "  <div id=\"df-d1c09096-467c-452f-b071-6e6a2e540bd1\">\n",
              "    <div class=\"colab-df-container\">\n",
              "      <div>\n",
              "<style scoped>\n",
              "    .dataframe tbody tr th:only-of-type {\n",
              "        vertical-align: middle;\n",
              "    }\n",
              "\n",
              "    .dataframe tbody tr th {\n",
              "        vertical-align: top;\n",
              "    }\n",
              "\n",
              "    .dataframe thead th {\n",
              "        text-align: right;\n",
              "    }\n",
              "</style>\n",
              "<table border=\"1\" class=\"dataframe\">\n",
              "  <thead>\n",
              "    <tr style=\"text-align: right;\">\n",
              "      <th></th>\n",
              "      <th>data_col_2</th>\n",
              "      <th>data_col_3</th>\n",
              "      <th>data_col_4</th>\n",
              "      <th>data_col_5</th>\n",
              "    </tr>\n",
              "  </thead>\n",
              "  <tbody>\n",
              "    <tr>\n",
              "      <th>r2</th>\n",
              "      <td>6</td>\n",
              "      <td>7</td>\n",
              "      <td>8</td>\n",
              "      <td>9</td>\n",
              "    </tr>\n",
              "    <tr>\n",
              "      <th>r3</th>\n",
              "      <td>11</td>\n",
              "      <td>12</td>\n",
              "      <td>13</td>\n",
              "      <td>14</td>\n",
              "    </tr>\n",
              "    <tr>\n",
              "      <th>r4</th>\n",
              "      <td>16</td>\n",
              "      <td>17</td>\n",
              "      <td>18</td>\n",
              "      <td>19</td>\n",
              "    </tr>\n",
              "  </tbody>\n",
              "</table>\n",
              "</div>\n",
              "      <button class=\"colab-df-convert\" onclick=\"convertToInteractive('df-d1c09096-467c-452f-b071-6e6a2e540bd1')\"\n",
              "              title=\"Convert this dataframe to an interactive table.\"\n",
              "              style=\"display:none;\">\n",
              "        \n",
              "  <svg xmlns=\"http://www.w3.org/2000/svg\" height=\"24px\"viewBox=\"0 0 24 24\"\n",
              "       width=\"24px\">\n",
              "    <path d=\"M0 0h24v24H0V0z\" fill=\"none\"/>\n",
              "    <path d=\"M18.56 5.44l.94 2.06.94-2.06 2.06-.94-2.06-.94-.94-2.06-.94 2.06-2.06.94zm-11 1L8.5 8.5l.94-2.06 2.06-.94-2.06-.94L8.5 2.5l-.94 2.06-2.06.94zm10 10l.94 2.06.94-2.06 2.06-.94-2.06-.94-.94-2.06-.94 2.06-2.06.94z\"/><path d=\"M17.41 7.96l-1.37-1.37c-.4-.4-.92-.59-1.43-.59-.52 0-1.04.2-1.43.59L10.3 9.45l-7.72 7.72c-.78.78-.78 2.05 0 2.83L4 21.41c.39.39.9.59 1.41.59.51 0 1.02-.2 1.41-.59l7.78-7.78 2.81-2.81c.8-.78.8-2.07 0-2.86zM5.41 20L4 18.59l7.72-7.72 1.47 1.35L5.41 20z\"/>\n",
              "  </svg>\n",
              "      </button>\n",
              "      \n",
              "  <style>\n",
              "    .colab-df-container {\n",
              "      display:flex;\n",
              "      flex-wrap:wrap;\n",
              "      gap: 12px;\n",
              "    }\n",
              "\n",
              "    .colab-df-convert {\n",
              "      background-color: #E8F0FE;\n",
              "      border: none;\n",
              "      border-radius: 50%;\n",
              "      cursor: pointer;\n",
              "      display: none;\n",
              "      fill: #1967D2;\n",
              "      height: 32px;\n",
              "      padding: 0 0 0 0;\n",
              "      width: 32px;\n",
              "    }\n",
              "\n",
              "    .colab-df-convert:hover {\n",
              "      background-color: #E2EBFA;\n",
              "      box-shadow: 0px 1px 2px rgba(60, 64, 67, 0.3), 0px 1px 3px 1px rgba(60, 64, 67, 0.15);\n",
              "      fill: #174EA6;\n",
              "    }\n",
              "\n",
              "    [theme=dark] .colab-df-convert {\n",
              "      background-color: #3B4455;\n",
              "      fill: #D2E3FC;\n",
              "    }\n",
              "\n",
              "    [theme=dark] .colab-df-convert:hover {\n",
              "      background-color: #434B5C;\n",
              "      box-shadow: 0px 1px 3px 1px rgba(0, 0, 0, 0.15);\n",
              "      filter: drop-shadow(0px 1px 2px rgba(0, 0, 0, 0.3));\n",
              "      fill: #FFFFFF;\n",
              "    }\n",
              "  </style>\n",
              "\n",
              "      <script>\n",
              "        const buttonEl =\n",
              "          document.querySelector('#df-d1c09096-467c-452f-b071-6e6a2e540bd1 button.colab-df-convert');\n",
              "        buttonEl.style.display =\n",
              "          google.colab.kernel.accessAllowed ? 'block' : 'none';\n",
              "\n",
              "        async function convertToInteractive(key) {\n",
              "          const element = document.querySelector('#df-d1c09096-467c-452f-b071-6e6a2e540bd1');\n",
              "          const dataTable =\n",
              "            await google.colab.kernel.invokeFunction('convertToInteractive',\n",
              "                                                     [key], {});\n",
              "          if (!dataTable) return;\n",
              "\n",
              "          const docLinkHtml = 'Like what you see? Visit the ' +\n",
              "            '<a target=\"_blank\" href=https://colab.research.google.com/notebooks/data_table.ipynb>data table notebook</a>'\n",
              "            + ' to learn more about interactive tables.';\n",
              "          element.innerHTML = '';\n",
              "          dataTable['output_type'] = 'display_data';\n",
              "          await google.colab.output.renderOutput(dataTable, element);\n",
              "          const docLink = document.createElement('div');\n",
              "          docLink.innerHTML = docLinkHtml;\n",
              "          element.appendChild(docLink);\n",
              "        }\n",
              "      </script>\n",
              "    </div>\n",
              "  </div>\n",
              "  "
            ]
          },
          "metadata": {},
          "execution_count": 34
        }
      ]
    },
    {
      "cell_type": "code",
      "source": [
        "my_data.iloc[0:2,0:3]"
      ],
      "metadata": {
        "colab": {
          "base_uri": "https://localhost:8080/",
          "height": 112
        },
        "id": "uPyNaS4H8lhQ",
        "outputId": "ebab634b-4129-4b00-a43f-7b3b75007620"
      },
      "execution_count": 32,
      "outputs": [
        {
          "output_type": "execute_result",
          "data": {
            "text/plain": [
              "    data_col_1  data_col_2  data_col_3\n",
              "r1           0           1           2\n",
              "r2           5           6           7"
            ],
            "text/html": [
              "\n",
              "  <div id=\"df-f4990ef7-6c07-4411-afb5-845cddfcd41b\">\n",
              "    <div class=\"colab-df-container\">\n",
              "      <div>\n",
              "<style scoped>\n",
              "    .dataframe tbody tr th:only-of-type {\n",
              "        vertical-align: middle;\n",
              "    }\n",
              "\n",
              "    .dataframe tbody tr th {\n",
              "        vertical-align: top;\n",
              "    }\n",
              "\n",
              "    .dataframe thead th {\n",
              "        text-align: right;\n",
              "    }\n",
              "</style>\n",
              "<table border=\"1\" class=\"dataframe\">\n",
              "  <thead>\n",
              "    <tr style=\"text-align: right;\">\n",
              "      <th></th>\n",
              "      <th>data_col_1</th>\n",
              "      <th>data_col_2</th>\n",
              "      <th>data_col_3</th>\n",
              "    </tr>\n",
              "  </thead>\n",
              "  <tbody>\n",
              "    <tr>\n",
              "      <th>r1</th>\n",
              "      <td>0</td>\n",
              "      <td>1</td>\n",
              "      <td>2</td>\n",
              "    </tr>\n",
              "    <tr>\n",
              "      <th>r2</th>\n",
              "      <td>5</td>\n",
              "      <td>6</td>\n",
              "      <td>7</td>\n",
              "    </tr>\n",
              "  </tbody>\n",
              "</table>\n",
              "</div>\n",
              "      <button class=\"colab-df-convert\" onclick=\"convertToInteractive('df-f4990ef7-6c07-4411-afb5-845cddfcd41b')\"\n",
              "              title=\"Convert this dataframe to an interactive table.\"\n",
              "              style=\"display:none;\">\n",
              "        \n",
              "  <svg xmlns=\"http://www.w3.org/2000/svg\" height=\"24px\"viewBox=\"0 0 24 24\"\n",
              "       width=\"24px\">\n",
              "    <path d=\"M0 0h24v24H0V0z\" fill=\"none\"/>\n",
              "    <path d=\"M18.56 5.44l.94 2.06.94-2.06 2.06-.94-2.06-.94-.94-2.06-.94 2.06-2.06.94zm-11 1L8.5 8.5l.94-2.06 2.06-.94-2.06-.94L8.5 2.5l-.94 2.06-2.06.94zm10 10l.94 2.06.94-2.06 2.06-.94-2.06-.94-.94-2.06-.94 2.06-2.06.94z\"/><path d=\"M17.41 7.96l-1.37-1.37c-.4-.4-.92-.59-1.43-.59-.52 0-1.04.2-1.43.59L10.3 9.45l-7.72 7.72c-.78.78-.78 2.05 0 2.83L4 21.41c.39.39.9.59 1.41.59.51 0 1.02-.2 1.41-.59l7.78-7.78 2.81-2.81c.8-.78.8-2.07 0-2.86zM5.41 20L4 18.59l7.72-7.72 1.47 1.35L5.41 20z\"/>\n",
              "  </svg>\n",
              "      </button>\n",
              "      \n",
              "  <style>\n",
              "    .colab-df-container {\n",
              "      display:flex;\n",
              "      flex-wrap:wrap;\n",
              "      gap: 12px;\n",
              "    }\n",
              "\n",
              "    .colab-df-convert {\n",
              "      background-color: #E8F0FE;\n",
              "      border: none;\n",
              "      border-radius: 50%;\n",
              "      cursor: pointer;\n",
              "      display: none;\n",
              "      fill: #1967D2;\n",
              "      height: 32px;\n",
              "      padding: 0 0 0 0;\n",
              "      width: 32px;\n",
              "    }\n",
              "\n",
              "    .colab-df-convert:hover {\n",
              "      background-color: #E2EBFA;\n",
              "      box-shadow: 0px 1px 2px rgba(60, 64, 67, 0.3), 0px 1px 3px 1px rgba(60, 64, 67, 0.15);\n",
              "      fill: #174EA6;\n",
              "    }\n",
              "\n",
              "    [theme=dark] .colab-df-convert {\n",
              "      background-color: #3B4455;\n",
              "      fill: #D2E3FC;\n",
              "    }\n",
              "\n",
              "    [theme=dark] .colab-df-convert:hover {\n",
              "      background-color: #434B5C;\n",
              "      box-shadow: 0px 1px 3px 1px rgba(0, 0, 0, 0.15);\n",
              "      filter: drop-shadow(0px 1px 2px rgba(0, 0, 0, 0.3));\n",
              "      fill: #FFFFFF;\n",
              "    }\n",
              "  </style>\n",
              "\n",
              "      <script>\n",
              "        const buttonEl =\n",
              "          document.querySelector('#df-f4990ef7-6c07-4411-afb5-845cddfcd41b button.colab-df-convert');\n",
              "        buttonEl.style.display =\n",
              "          google.colab.kernel.accessAllowed ? 'block' : 'none';\n",
              "\n",
              "        async function convertToInteractive(key) {\n",
              "          const element = document.querySelector('#df-f4990ef7-6c07-4411-afb5-845cddfcd41b');\n",
              "          const dataTable =\n",
              "            await google.colab.kernel.invokeFunction('convertToInteractive',\n",
              "                                                     [key], {});\n",
              "          if (!dataTable) return;\n",
              "\n",
              "          const docLinkHtml = 'Like what you see? Visit the ' +\n",
              "            '<a target=\"_blank\" href=https://colab.research.google.com/notebooks/data_table.ipynb>data table notebook</a>'\n",
              "            + ' to learn more about interactive tables.';\n",
              "          element.innerHTML = '';\n",
              "          dataTable['output_type'] = 'display_data';\n",
              "          await google.colab.output.renderOutput(dataTable, element);\n",
              "          const docLink = document.createElement('div');\n",
              "          docLink.innerHTML = docLinkHtml;\n",
              "          element.appendChild(docLink);\n",
              "        }\n",
              "      </script>\n",
              "    </div>\n",
              "  </div>\n",
              "  "
            ]
          },
          "metadata": {},
          "execution_count": 32
        }
      ]
    },
    {
      "cell_type": "markdown",
      "source": [
        "*.loc()*"
      ],
      "metadata": {
        "id": "Kxm8aoqI9z6m"
      }
    },
    {
      "cell_type": "code",
      "source": [
        "my_data.loc[\"r1\"]"
      ],
      "metadata": {
        "colab": {
          "base_uri": "https://localhost:8080/"
        },
        "id": "ZFOqH4q29RJJ",
        "outputId": "157f68b3-7538-4634-b327-3d174627c9ff"
      },
      "execution_count": 35,
      "outputs": [
        {
          "output_type": "execute_result",
          "data": {
            "text/plain": [
              "data_col_1    0\n",
              "data_col_2    1\n",
              "data_col_3    2\n",
              "data_col_4    3\n",
              "data_col_5    4\n",
              "Name: r1, dtype: int64"
            ]
          },
          "metadata": {},
          "execution_count": 35
        }
      ]
    },
    {
      "cell_type": "code",
      "source": [
        "my_data.loc[[\"r1\",\"r2\",\"r3\"]] # we can extract multiple rows with .loc as follows"
      ],
      "metadata": {
        "colab": {
          "base_uri": "https://localhost:8080/",
          "height": 143
        },
        "id": "1nd7svtx98G2",
        "outputId": "c0c7e520-49a4-4f11-cd95-54927fd86652"
      },
      "execution_count": 39,
      "outputs": [
        {
          "output_type": "execute_result",
          "data": {
            "text/plain": [
              "    data_col_1  data_col_2  data_col_3  data_col_4  data_col_5\n",
              "r1           0           1           2           3           4\n",
              "r2           5           6           7           8           9\n",
              "r3          10          11          12          13          14"
            ],
            "text/html": [
              "\n",
              "  <div id=\"df-0de15583-4cf0-4d8f-b8cb-139fb1ee2351\">\n",
              "    <div class=\"colab-df-container\">\n",
              "      <div>\n",
              "<style scoped>\n",
              "    .dataframe tbody tr th:only-of-type {\n",
              "        vertical-align: middle;\n",
              "    }\n",
              "\n",
              "    .dataframe tbody tr th {\n",
              "        vertical-align: top;\n",
              "    }\n",
              "\n",
              "    .dataframe thead th {\n",
              "        text-align: right;\n",
              "    }\n",
              "</style>\n",
              "<table border=\"1\" class=\"dataframe\">\n",
              "  <thead>\n",
              "    <tr style=\"text-align: right;\">\n",
              "      <th></th>\n",
              "      <th>data_col_1</th>\n",
              "      <th>data_col_2</th>\n",
              "      <th>data_col_3</th>\n",
              "      <th>data_col_4</th>\n",
              "      <th>data_col_5</th>\n",
              "    </tr>\n",
              "  </thead>\n",
              "  <tbody>\n",
              "    <tr>\n",
              "      <th>r1</th>\n",
              "      <td>0</td>\n",
              "      <td>1</td>\n",
              "      <td>2</td>\n",
              "      <td>3</td>\n",
              "      <td>4</td>\n",
              "    </tr>\n",
              "    <tr>\n",
              "      <th>r2</th>\n",
              "      <td>5</td>\n",
              "      <td>6</td>\n",
              "      <td>7</td>\n",
              "      <td>8</td>\n",
              "      <td>9</td>\n",
              "    </tr>\n",
              "    <tr>\n",
              "      <th>r3</th>\n",
              "      <td>10</td>\n",
              "      <td>11</td>\n",
              "      <td>12</td>\n",
              "      <td>13</td>\n",
              "      <td>14</td>\n",
              "    </tr>\n",
              "  </tbody>\n",
              "</table>\n",
              "</div>\n",
              "      <button class=\"colab-df-convert\" onclick=\"convertToInteractive('df-0de15583-4cf0-4d8f-b8cb-139fb1ee2351')\"\n",
              "              title=\"Convert this dataframe to an interactive table.\"\n",
              "              style=\"display:none;\">\n",
              "        \n",
              "  <svg xmlns=\"http://www.w3.org/2000/svg\" height=\"24px\"viewBox=\"0 0 24 24\"\n",
              "       width=\"24px\">\n",
              "    <path d=\"M0 0h24v24H0V0z\" fill=\"none\"/>\n",
              "    <path d=\"M18.56 5.44l.94 2.06.94-2.06 2.06-.94-2.06-.94-.94-2.06-.94 2.06-2.06.94zm-11 1L8.5 8.5l.94-2.06 2.06-.94-2.06-.94L8.5 2.5l-.94 2.06-2.06.94zm10 10l.94 2.06.94-2.06 2.06-.94-2.06-.94-.94-2.06-.94 2.06-2.06.94z\"/><path d=\"M17.41 7.96l-1.37-1.37c-.4-.4-.92-.59-1.43-.59-.52 0-1.04.2-1.43.59L10.3 9.45l-7.72 7.72c-.78.78-.78 2.05 0 2.83L4 21.41c.39.39.9.59 1.41.59.51 0 1.02-.2 1.41-.59l7.78-7.78 2.81-2.81c.8-.78.8-2.07 0-2.86zM5.41 20L4 18.59l7.72-7.72 1.47 1.35L5.41 20z\"/>\n",
              "  </svg>\n",
              "      </button>\n",
              "      \n",
              "  <style>\n",
              "    .colab-df-container {\n",
              "      display:flex;\n",
              "      flex-wrap:wrap;\n",
              "      gap: 12px;\n",
              "    }\n",
              "\n",
              "    .colab-df-convert {\n",
              "      background-color: #E8F0FE;\n",
              "      border: none;\n",
              "      border-radius: 50%;\n",
              "      cursor: pointer;\n",
              "      display: none;\n",
              "      fill: #1967D2;\n",
              "      height: 32px;\n",
              "      padding: 0 0 0 0;\n",
              "      width: 32px;\n",
              "    }\n",
              "\n",
              "    .colab-df-convert:hover {\n",
              "      background-color: #E2EBFA;\n",
              "      box-shadow: 0px 1px 2px rgba(60, 64, 67, 0.3), 0px 1px 3px 1px rgba(60, 64, 67, 0.15);\n",
              "      fill: #174EA6;\n",
              "    }\n",
              "\n",
              "    [theme=dark] .colab-df-convert {\n",
              "      background-color: #3B4455;\n",
              "      fill: #D2E3FC;\n",
              "    }\n",
              "\n",
              "    [theme=dark] .colab-df-convert:hover {\n",
              "      background-color: #434B5C;\n",
              "      box-shadow: 0px 1px 3px 1px rgba(0, 0, 0, 0.15);\n",
              "      filter: drop-shadow(0px 1px 2px rgba(0, 0, 0, 0.3));\n",
              "      fill: #FFFFFF;\n",
              "    }\n",
              "  </style>\n",
              "\n",
              "      <script>\n",
              "        const buttonEl =\n",
              "          document.querySelector('#df-0de15583-4cf0-4d8f-b8cb-139fb1ee2351 button.colab-df-convert');\n",
              "        buttonEl.style.display =\n",
              "          google.colab.kernel.accessAllowed ? 'block' : 'none';\n",
              "\n",
              "        async function convertToInteractive(key) {\n",
              "          const element = document.querySelector('#df-0de15583-4cf0-4d8f-b8cb-139fb1ee2351');\n",
              "          const dataTable =\n",
              "            await google.colab.kernel.invokeFunction('convertToInteractive',\n",
              "                                                     [key], {});\n",
              "          if (!dataTable) return;\n",
              "\n",
              "          const docLinkHtml = 'Like what you see? Visit the ' +\n",
              "            '<a target=\"_blank\" href=https://colab.research.google.com/notebooks/data_table.ipynb>data table notebook</a>'\n",
              "            + ' to learn more about interactive tables.';\n",
              "          element.innerHTML = '';\n",
              "          dataTable['output_type'] = 'display_data';\n",
              "          await google.colab.output.renderOutput(dataTable, element);\n",
              "          const docLink = document.createElement('div');\n",
              "          docLink.innerHTML = docLinkHtml;\n",
              "          element.appendChild(docLink);\n",
              "        }\n",
              "      </script>\n",
              "    </div>\n",
              "  </div>\n",
              "  "
            ]
          },
          "metadata": {},
          "execution_count": 39
        }
      ]
    },
    {
      "cell_type": "code",
      "source": [
        ""
      ],
      "metadata": {
        "id": "YJDTE_mO-ktw"
      },
      "execution_count": null,
      "outputs": []
    }
  ]
}